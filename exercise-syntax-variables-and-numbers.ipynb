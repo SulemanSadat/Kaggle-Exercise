{
 "cells": [
  {
   "cell_type": "markdown",
   "id": "25e4b7cf",
   "metadata": {
    "papermill": {
     "duration": 0.008099,
     "end_time": "2024-04-02T10:22:48.694112",
     "exception": false,
     "start_time": "2024-04-02T10:22:48.686013",
     "status": "completed"
    },
    "tags": []
   },
   "source": [
    "**This notebook is an exercise in the [Python](https://www.kaggle.com/learn/python) course.  You can reference the tutorial at [this link](https://www.kaggle.com/colinmorris/hello-python).**\n",
    "\n",
    "---\n"
   ]
  },
  {
   "cell_type": "markdown",
   "id": "784c84a9",
   "metadata": {
    "papermill": {
     "duration": 0.007522,
     "end_time": "2024-04-02T10:22:48.709257",
     "exception": false,
     "start_time": "2024-04-02T10:22:48.701735",
     "status": "completed"
    },
    "tags": []
   },
   "source": [
    "Welcome to your first set of Python coding problems.  If this is your first time using Kaggle Notebooks, welcome! \n",
    "\n",
    "Notebooks are composed of blocks (called \"cells\") of text and code. Each of these is editable, though you'll mainly be editing the code cells to answer some questions.\n",
    "\n",
    "To get started, try running the code cell below (by pressing the ► button, or clicking on the cell and pressing ctrl+enter on your keyboard)."
   ]
  },
  {
   "cell_type": "code",
   "execution_count": 1,
   "id": "882190ff",
   "metadata": {
    "execution": {
     "iopub.execute_input": "2024-04-02T10:22:48.726695Z",
     "iopub.status.busy": "2024-04-02T10:22:48.725965Z",
     "iopub.status.idle": "2024-04-02T10:22:48.737376Z",
     "shell.execute_reply": "2024-04-02T10:22:48.736119Z"
    },
    "papermill": {
     "duration": 0.023498,
     "end_time": "2024-04-02T10:22:48.740252",
     "exception": false,
     "start_time": "2024-04-02T10:22:48.716754",
     "status": "completed"
    },
    "tags": []
   },
   "outputs": [
    {
     "name": "stdout",
     "output_type": "stream",
     "text": [
      "You've successfully run some Python code\n",
      "Congratulations!\n"
     ]
    }
   ],
   "source": [
    "print(\"You've successfully run some Python code\")\n",
    "print(\"Congratulations!\")"
   ]
  },
  {
   "cell_type": "markdown",
   "id": "89d728cd",
   "metadata": {
    "papermill": {
     "duration": 0.007974,
     "end_time": "2024-04-02T10:22:48.756214",
     "exception": false,
     "start_time": "2024-04-02T10:22:48.748240",
     "status": "completed"
    },
    "tags": []
   },
   "source": [
    "Try adding another line of code in the cell above and re-running it. \n",
    "\n",
    "Now let's get a little fancier:  Add a new code cell by clicking on an existing code cell, hitting the escape key, and then hitting the `a` or `b` key.  The `a` key will add a cell above the current cell, and `b` adds a cell below.\n",
    "\n",
    "Great! Now you know how to use Notebooks.\n",
    "\n",
    "Each hands-on exercise starts by setting up our feedback and code checking mechanism. Run the code cell below to do that. Then you'll be ready to move on to question 0."
   ]
  },
  {
   "cell_type": "code",
   "execution_count": 2,
   "id": "d431c032",
   "metadata": {
    "_kg_hide-input": true,
    "_kg_hide-output": true,
    "execution": {
     "iopub.execute_input": "2024-04-02T10:22:48.773598Z",
     "iopub.status.busy": "2024-04-02T10:22:48.773211Z",
     "iopub.status.idle": "2024-04-02T10:22:49.702006Z",
     "shell.execute_reply": "2024-04-02T10:22:49.700394Z"
    },
    "papermill": {
     "duration": 0.940854,
     "end_time": "2024-04-02T10:22:49.704689",
     "exception": false,
     "start_time": "2024-04-02T10:22:48.763835",
     "status": "completed"
    },
    "tags": []
   },
   "outputs": [
    {
     "name": "stdout",
     "output_type": "stream",
     "text": [
      "Setup complete! You're ready to start question 0.\n"
     ]
    }
   ],
   "source": [
    "from learntools.core import binder; binder.bind(globals())\n",
    "from learntools.python.ex1 import *\n",
    "print(\"Setup complete! You're ready to start question 0.\")"
   ]
  },
  {
   "cell_type": "markdown",
   "id": "a0b2533c",
   "metadata": {
    "papermill": {
     "duration": 0.007215,
     "end_time": "2024-04-02T10:22:49.719407",
     "exception": false,
     "start_time": "2024-04-02T10:22:49.712192",
     "status": "completed"
    },
    "tags": []
   },
   "source": [
    "# 0.\n",
    "\n",
    "*This is a silly question intended as an introduction to the format we use for hands-on exercises throughout all Kaggle courses.*\n",
    "\n",
    "**What is your favorite color? **\n",
    "\n",
    "To complete this question, create a variable called `color` in the cell below with an appropriate value. The function call `q0.check()` (which we've already provided in the cell below) will check your answer."
   ]
  },
  {
   "cell_type": "code",
   "execution_count": 3,
   "id": "49af6868",
   "metadata": {
    "execution": {
     "iopub.execute_input": "2024-04-02T10:22:49.736028Z",
     "iopub.status.busy": "2024-04-02T10:22:49.735400Z",
     "iopub.status.idle": "2024-04-02T10:22:49.746157Z",
     "shell.execute_reply": "2024-04-02T10:22:49.744906Z"
    },
    "papermill": {
     "duration": 0.022166,
     "end_time": "2024-04-02T10:22:49.748672",
     "exception": false,
     "start_time": "2024-04-02T10:22:49.726506",
     "status": "completed"
    },
    "tags": []
   },
   "outputs": [
    {
     "data": {
      "application/javascript": [
       "parent.postMessage({\"jupyterEvent\": \"custom.exercise_interaction\", \"data\": {\"outcomeType\": 1, \"valueTowardsCompletion\": 0.25, \"interactionType\": 1, \"questionType\": 2, \"questionId\": \"0_ExerciseFormatTutorial\", \"learnToolsVersion\": \"0.3.4\", \"failureMessage\": \"\", \"exceptionClass\": \"\", \"trace\": \"\"}}, \"*\")"
      ],
      "text/plain": [
       "<IPython.core.display.Javascript object>"
      ]
     },
     "metadata": {},
     "output_type": "display_data"
    },
    {
     "data": {
      "text/markdown": [
       "<span style=\"color:#33cc33\">Correct:</span> What?! You got it right without needing a hint or anything? Drats. Well hey, you should still continue to the next step to get some practice asking for a hint and checking solutions. (Even though you obviously don't need any help here.)"
      ],
      "text/plain": [
       "Correct: What?! You got it right without needing a hint or anything? Drats. Well hey, you should still continue to the next step to get some practice asking for a hint and checking solutions. (Even though you obviously don't need any help here.)"
      ]
     },
     "metadata": {},
     "output_type": "display_data"
    }
   ],
   "source": [
    "# create a variable called color with an appropriate value on the line below\n",
    "# (Remember, strings in Python must be enclosed in 'single' or \"double\" quotes)\n",
    "color = \"blue\"\n",
    "\n",
    "q0.check()"
   ]
  },
  {
   "cell_type": "code",
   "execution_count": null,
   "id": "0bd547e8",
   "metadata": {
    "papermill": {
     "duration": 0.008299,
     "end_time": "2024-04-02T10:22:49.764586",
     "exception": false,
     "start_time": "2024-04-02T10:22:49.756287",
     "status": "completed"
    },
    "tags": []
   },
   "outputs": [],
   "source": []
  },
  {
   "cell_type": "markdown",
   "id": "1211197f",
   "metadata": {
    "papermill": {
     "duration": 0.007062,
     "end_time": "2024-04-02T10:22:49.778995",
     "exception": false,
     "start_time": "2024-04-02T10:22:49.771933",
     "status": "completed"
    },
    "tags": []
   },
   "source": [
    "Didn't get the right answer? How do you not even know your own favorite color?!\n",
    "\n",
    "Delete the `#` in the line below to make one of the lines run. You can choose between getting a hint or the full answer by choosing which line to remove the `#` from. \n",
    "\n",
    "Removing the `#` is called uncommenting, because it changes that line from a \"comment\" which Python doesn't run to code, which Python does run."
   ]
  },
  {
   "cell_type": "code",
   "execution_count": 4,
   "id": "ce4a6bbf",
   "metadata": {
    "execution": {
     "iopub.execute_input": "2024-04-02T10:22:49.796068Z",
     "iopub.status.busy": "2024-04-02T10:22:49.795607Z",
     "iopub.status.idle": "2024-04-02T10:22:49.805253Z",
     "shell.execute_reply": "2024-04-02T10:22:49.803998Z"
    },
    "papermill": {
     "duration": 0.021232,
     "end_time": "2024-04-02T10:22:49.807725",
     "exception": false,
     "start_time": "2024-04-02T10:22:49.786493",
     "status": "completed"
    },
    "tags": []
   },
   "outputs": [
    {
     "data": {
      "application/javascript": [
       "parent.postMessage({\"jupyterEvent\": \"custom.exercise_interaction\", \"data\": {\"interactionType\": 3, \"questionType\": 2, \"questionId\": \"0_ExerciseFormatTutorial\", \"learnToolsVersion\": \"0.3.4\", \"valueTowardsCompletion\": 0.0, \"failureMessage\": \"\", \"exceptionClass\": \"\", \"trace\": \"\", \"outcomeType\": 4}}, \"*\")"
      ],
      "text/plain": [
       "<IPython.core.display.Javascript object>"
      ]
     },
     "metadata": {},
     "output_type": "display_data"
    },
    {
     "data": {
      "text/markdown": [
       "<span style=\"color:#33cc99\">Solution:</span> \n",
       "```python\n",
       "color = \"blue\"\n",
       "```"
      ],
      "text/plain": [
       "Solution: \n",
       "```python\n",
       "color = \"blue\"\n",
       "```"
      ]
     },
     "metadata": {},
     "output_type": "display_data"
    }
   ],
   "source": [
    "#q0.hint()\n",
    "q0.solution()"
   ]
  },
  {
   "cell_type": "markdown",
   "id": "7c77a2bc",
   "metadata": {
    "papermill": {
     "duration": 0.007554,
     "end_time": "2024-04-02T10:22:49.823012",
     "exception": false,
     "start_time": "2024-04-02T10:22:49.815458",
     "status": "completed"
    },
    "tags": []
   },
   "source": [
    "The upcoming questions work the same way. The only thing that will change are the question numbers. For the next question, you'll call `q1.check()`, `q1.hint()`, `q1.solution()`, for question 2, you'll call `q2.check()`, and so on."
   ]
  },
  {
   "cell_type": "markdown",
   "id": "b58350be",
   "metadata": {
    "papermill": {
     "duration": 0.00746,
     "end_time": "2024-04-02T10:22:49.838161",
     "exception": false,
     "start_time": "2024-04-02T10:22:49.830701",
     "status": "completed"
    },
    "tags": []
   },
   "source": [
    "<hr/>\n",
    "\n",
    "# 1.\n",
    "\n",
    "Complete the code below. In case it's helpful, here is the table of available arithmetic operations:\n",
    "\n",
    "\n",
    "\n",
    "| Operator     | Name           | Description                                            |\n",
    "|--------------|----------------|--------------------------------------------------------|\n",
    "| ``a + b``    | Addition       | Sum of ``a`` and ``b``                                 |\n",
    "| ``a - b``    | Subtraction    | Difference of ``a`` and ``b``                          |\n",
    "| ``a * b``    | Multiplication | Product of ``a`` and ``b``                             |\n",
    "| ``a / b``    | True division  | Quotient of ``a`` and ``b``                            |\n",
    "| ``a // b``   | Floor division | Quotient of ``a`` and ``b``, removing fractional parts |\n",
    "| ``a % b``    | Modulus        | Integer remainder after division of ``a`` by ``b``     |\n",
    "| ``a ** b``   | Exponentiation | ``a`` raised to the power of ``b``                     |\n",
    "| ``-a``       | Negation       | The negative of ``a``                                  |\n",
    "\n",
    "<span style=\"display:none\"></span>\n"
   ]
  },
  {
   "cell_type": "code",
   "execution_count": 5,
   "id": "b9428e3f",
   "metadata": {
    "execution": {
     "iopub.execute_input": "2024-04-02T10:22:49.855874Z",
     "iopub.status.busy": "2024-04-02T10:22:49.855363Z",
     "iopub.status.idle": "2024-04-02T10:22:49.865039Z",
     "shell.execute_reply": "2024-04-02T10:22:49.864130Z"
    },
    "papermill": {
     "duration": 0.021269,
     "end_time": "2024-04-02T10:22:49.867162",
     "exception": false,
     "start_time": "2024-04-02T10:22:49.845893",
     "status": "completed"
    },
    "tags": []
   },
   "outputs": [
    {
     "data": {
      "application/javascript": [
       "parent.postMessage({\"jupyterEvent\": \"custom.exercise_interaction\", \"data\": {\"outcomeType\": 1, \"valueTowardsCompletion\": 0.25, \"interactionType\": 1, \"questionType\": 1, \"questionId\": \"1_CircleArea\", \"learnToolsVersion\": \"0.3.4\", \"failureMessage\": \"\", \"exceptionClass\": \"\", \"trace\": \"\"}}, \"*\")"
      ],
      "text/plain": [
       "<IPython.core.display.Javascript object>"
      ]
     },
     "metadata": {},
     "output_type": "display_data"
    },
    {
     "data": {
      "text/markdown": [
       "<span style=\"color:#33cc33\">Correct</span>"
      ],
      "text/plain": [
       "Correct"
      ]
     },
     "metadata": {},
     "output_type": "display_data"
    }
   ],
   "source": [
    "pi = 3.14159 # approximate\n",
    "diameter = 3\n",
    "\n",
    "# Create a variable called 'radius' equal to half the diameter\n",
    "radius = diameter / 2\n",
    "\n",
    "# Create a variable called 'area', using the formula for the area of a circle: pi times the radius squared\n",
    "area = pi * (radius ** 2)\n",
    "q1.check()"
   ]
  },
  {
   "cell_type": "code",
   "execution_count": 6,
   "id": "74078ab2",
   "metadata": {
    "execution": {
     "iopub.execute_input": "2024-04-02T10:22:49.885569Z",
     "iopub.status.busy": "2024-04-02T10:22:49.885108Z",
     "iopub.status.idle": "2024-04-02T10:22:49.897032Z",
     "shell.execute_reply": "2024-04-02T10:22:49.895920Z"
    },
    "papermill": {
     "duration": 0.024074,
     "end_time": "2024-04-02T10:22:49.899241",
     "exception": false,
     "start_time": "2024-04-02T10:22:49.875167",
     "status": "completed"
    },
    "tags": []
   },
   "outputs": [
    {
     "data": {
      "application/javascript": [
       "parent.postMessage({\"jupyterEvent\": \"custom.exercise_interaction\", \"data\": {\"interactionType\": 2, \"questionType\": 1, \"questionId\": \"1_CircleArea\", \"learnToolsVersion\": \"0.3.4\", \"valueTowardsCompletion\": 0.0, \"failureMessage\": \"\", \"exceptionClass\": \"\", \"trace\": \"\", \"outcomeType\": 4}}, \"*\")"
      ],
      "text/plain": [
       "<IPython.core.display.Javascript object>"
      ]
     },
     "metadata": {},
     "output_type": "display_data"
    },
    {
     "data": {
      "text/markdown": [
       "<span style=\"color:#3366cc\">Hint:</span> The syntax to raise a to the b'th power is `a ** b`"
      ],
      "text/plain": [
       "Hint: The syntax to raise a to the b'th power is `a ** b`"
      ]
     },
     "metadata": {},
     "output_type": "display_data"
    },
    {
     "data": {
      "application/javascript": [
       "parent.postMessage({\"jupyterEvent\": \"custom.exercise_interaction\", \"data\": {\"interactionType\": 3, \"questionType\": 1, \"questionId\": \"1_CircleArea\", \"learnToolsVersion\": \"0.3.4\", \"valueTowardsCompletion\": 0.0, \"failureMessage\": \"\", \"exceptionClass\": \"\", \"trace\": \"\", \"outcomeType\": 4}}, \"*\")"
      ],
      "text/plain": [
       "<IPython.core.display.Javascript object>"
      ]
     },
     "metadata": {},
     "output_type": "display_data"
    },
    {
     "data": {
      "text/markdown": [
       "<span style=\"color:#33cc99\">Solution:</span> \n",
       "```python\n",
       "radius = diameter / 2\n",
       "area = pi * radius ** 2\n",
       "```"
      ],
      "text/plain": [
       "Solution: \n",
       "```python\n",
       "radius = diameter / 2\n",
       "area = pi * radius ** 2\n",
       "```"
      ]
     },
     "metadata": {},
     "output_type": "display_data"
    }
   ],
   "source": [
    "# Uncomment and run the lines below if you need help.\n",
    "q1.hint()\n",
    "q1.solution()"
   ]
  },
  {
   "cell_type": "markdown",
   "id": "4e2eccd1",
   "metadata": {
    "papermill": {
     "duration": 0.008261,
     "end_time": "2024-04-02T10:22:49.916629",
     "exception": false,
     "start_time": "2024-04-02T10:22:49.908368",
     "status": "completed"
    },
    "tags": []
   },
   "source": [
    "<hr/>\n",
    "\n",
    "# 2.\n",
    "\n",
    "Add code to the following cell to swap variables `a` and `b` (so that `a` refers to the object previously referred to by `b` and vice versa)."
   ]
  },
  {
   "cell_type": "code",
   "execution_count": 7,
   "id": "c83931b5",
   "metadata": {
    "execution": {
     "iopub.execute_input": "2024-04-02T10:22:49.935347Z",
     "iopub.status.busy": "2024-04-02T10:22:49.934877Z",
     "iopub.status.idle": "2024-04-02T10:22:49.945781Z",
     "shell.execute_reply": "2024-04-02T10:22:49.944589Z"
    },
    "papermill": {
     "duration": 0.022899,
     "end_time": "2024-04-02T10:22:49.947810",
     "exception": false,
     "start_time": "2024-04-02T10:22:49.924911",
     "status": "completed"
    },
    "tags": []
   },
   "outputs": [
    {
     "data": {
      "application/javascript": [
       "parent.postMessage({\"jupyterEvent\": \"custom.exercise_interaction\", \"data\": {\"outcomeType\": 2, \"failureMessage\": \"`a` and `b` still have their original values.\", \"interactionType\": 1, \"questionType\": 2, \"questionId\": \"2_VariableSwap\", \"learnToolsVersion\": \"0.3.4\", \"valueTowardsCompletion\": 0.0, \"exceptionClass\": \"\", \"trace\": \"\"}}, \"*\")"
      ],
      "text/plain": [
       "<IPython.core.display.Javascript object>"
      ]
     },
     "metadata": {},
     "output_type": "display_data"
    },
    {
     "data": {
      "text/markdown": [
       "<span style=\"color:#cc3333\">Incorrect:</span> `a` and `b` still have their original values."
      ],
      "text/plain": [
       "Incorrect: `a` and `b` still have their original values."
      ]
     },
     "metadata": {},
     "output_type": "display_data"
    }
   ],
   "source": [
    "########### Setup code - don't touch this part ######################\n",
    "# If you're curious, these are examples of lists. We'll talk about \n",
    "# them in depth a few lessons from now. For now, just know that they're\n",
    "# yet another type of Python object, like int or float.\n",
    "a = [1, 2, 3]\n",
    "b = [3, 2, 1]\n",
    "q2.store_original_ids()\n",
    "######################################################################\n",
    "\n",
    "# Your code goes here. Swap the values to which a and b refer.\n",
    "# If you get stuck, you can always uncomment one or both of the lines in\n",
    "# the next cell for a hint, or to peek at the solution.\n",
    "\n",
    "######################################################################\n",
    "\n",
    "# Check your answer\n",
    "q2.check()"
   ]
  },
  {
   "cell_type": "code",
   "execution_count": 8,
   "id": "01a91be3",
   "metadata": {
    "execution": {
     "iopub.execute_input": "2024-04-02T10:22:49.967891Z",
     "iopub.status.busy": "2024-04-02T10:22:49.966550Z",
     "iopub.status.idle": "2024-04-02T10:22:49.971811Z",
     "shell.execute_reply": "2024-04-02T10:22:49.970894Z"
    },
    "papermill": {
     "duration": 0.017502,
     "end_time": "2024-04-02T10:22:49.973913",
     "exception": false,
     "start_time": "2024-04-02T10:22:49.956411",
     "status": "completed"
    },
    "tags": []
   },
   "outputs": [],
   "source": [
    "#q2.hint()"
   ]
  },
  {
   "cell_type": "code",
   "execution_count": 9,
   "id": "d3302e35",
   "metadata": {
    "execution": {
     "iopub.execute_input": "2024-04-02T10:22:49.993477Z",
     "iopub.status.busy": "2024-04-02T10:22:49.993044Z",
     "iopub.status.idle": "2024-04-02T10:22:49.997994Z",
     "shell.execute_reply": "2024-04-02T10:22:49.996955Z"
    },
    "papermill": {
     "duration": 0.017746,
     "end_time": "2024-04-02T10:22:50.000369",
     "exception": false,
     "start_time": "2024-04-02T10:22:49.982623",
     "status": "completed"
    },
    "tags": []
   },
   "outputs": [],
   "source": [
    "#q2.solution()"
   ]
  },
  {
   "cell_type": "markdown",
   "id": "341f2506",
   "metadata": {
    "papermill": {
     "duration": 0.008897,
     "end_time": "2024-04-02T10:22:50.018889",
     "exception": false,
     "start_time": "2024-04-02T10:22:50.009992",
     "status": "completed"
    },
    "tags": []
   },
   "source": [
    "<hr/>\n",
    "\n",
    "# 3a.\n",
    "\n",
    "Add parentheses to the following expression so that it evaluates to 1."
   ]
  },
  {
   "cell_type": "code",
   "execution_count": 10,
   "id": "6628821b",
   "metadata": {
    "execution": {
     "iopub.execute_input": "2024-04-02T10:22:50.039128Z",
     "iopub.status.busy": "2024-04-02T10:22:50.037777Z",
     "iopub.status.idle": "2024-04-02T10:22:50.045042Z",
     "shell.execute_reply": "2024-04-02T10:22:50.043656Z"
    },
    "papermill": {
     "duration": 0.019438,
     "end_time": "2024-04-02T10:22:50.047063",
     "exception": false,
     "start_time": "2024-04-02T10:22:50.027625",
     "status": "completed"
    },
    "tags": []
   },
   "outputs": [
    {
     "data": {
      "text/plain": [
       "4"
      ]
     },
     "execution_count": 10,
     "metadata": {},
     "output_type": "execute_result"
    }
   ],
   "source": [
    "5 - 3 // 2"
   ]
  },
  {
   "cell_type": "code",
   "execution_count": 11,
   "id": "917d0e3a",
   "metadata": {
    "execution": {
     "iopub.execute_input": "2024-04-02T10:22:50.067551Z",
     "iopub.status.busy": "2024-04-02T10:22:50.066257Z",
     "iopub.status.idle": "2024-04-02T10:22:50.071056Z",
     "shell.execute_reply": "2024-04-02T10:22:50.070146Z"
    },
    "papermill": {
     "duration": 0.017203,
     "end_time": "2024-04-02T10:22:50.073179",
     "exception": false,
     "start_time": "2024-04-02T10:22:50.055976",
     "status": "completed"
    },
    "tags": []
   },
   "outputs": [],
   "source": [
    "#q3.a.hint()"
   ]
  },
  {
   "cell_type": "code",
   "execution_count": 12,
   "id": "2bca866a",
   "metadata": {
    "execution": {
     "iopub.execute_input": "2024-04-02T10:22:50.093458Z",
     "iopub.status.busy": "2024-04-02T10:22:50.092714Z",
     "iopub.status.idle": "2024-04-02T10:22:50.101110Z",
     "shell.execute_reply": "2024-04-02T10:22:50.100083Z"
    },
    "papermill": {
     "duration": 0.021326,
     "end_time": "2024-04-02T10:22:50.103461",
     "exception": false,
     "start_time": "2024-04-02T10:22:50.082135",
     "status": "completed"
    },
    "tags": []
   },
   "outputs": [
    {
     "data": {
      "application/javascript": [
       "parent.postMessage({\"jupyterEvent\": \"custom.exercise_interaction\", \"data\": {\"interactionType\": 3, \"questionType\": 4, \"questionId\": \"3.1_ArithmeticParensEasy\", \"learnToolsVersion\": \"0.3.4\", \"valueTowardsCompletion\": 0.0, \"failureMessage\": \"\", \"exceptionClass\": \"\", \"trace\": \"\", \"outcomeType\": 4}}, \"*\")"
      ],
      "text/plain": [
       "<IPython.core.display.Javascript object>"
      ]
     },
     "metadata": {},
     "output_type": "display_data"
    },
    {
     "data": {
      "text/markdown": [
       "<span style=\"color:#33cc99\">Solution:</span> \n",
       "```python\n",
       "(5 - 3) // 2\n",
       "```"
      ],
      "text/plain": [
       "Solution: \n",
       "```python\n",
       "(5 - 3) // 2\n",
       "```"
      ]
     },
     "metadata": {},
     "output_type": "display_data"
    }
   ],
   "source": [
    "# Check your answer (Run this code cell to receive credit!)\n",
    "q3.a.solution()"
   ]
  },
  {
   "cell_type": "markdown",
   "id": "81cf0fe4",
   "metadata": {
    "papermill": {
     "duration": 0.008733,
     "end_time": "2024-04-02T10:22:50.121444",
     "exception": false,
     "start_time": "2024-04-02T10:22:50.112711",
     "status": "completed"
    },
    "tags": []
   },
   "source": [
    "# 3b.  <span title=\"A bit spicy\" style=\"color: darkgreen \">🌶️</span>\n",
    "\n",
    "<small>Questions, like this one, marked a spicy pepper are a bit harder.</small>\n",
    "\n",
    "Add parentheses to the following expression so that it evaluates to 0."
   ]
  },
  {
   "cell_type": "code",
   "execution_count": 13,
   "id": "dcc86bbe",
   "metadata": {
    "execution": {
     "iopub.execute_input": "2024-04-02T10:22:50.141595Z",
     "iopub.status.busy": "2024-04-02T10:22:50.141138Z",
     "iopub.status.idle": "2024-04-02T10:22:50.147961Z",
     "shell.execute_reply": "2024-04-02T10:22:50.146665Z"
    },
    "papermill": {
     "duration": 0.019636,
     "end_time": "2024-04-02T10:22:50.150071",
     "exception": false,
     "start_time": "2024-04-02T10:22:50.130435",
     "status": "completed"
    },
    "tags": []
   },
   "outputs": [
    {
     "data": {
      "text/plain": [
       "2"
      ]
     },
     "execution_count": 13,
     "metadata": {},
     "output_type": "execute_result"
    }
   ],
   "source": [
    "8 - 3 * 2 - 1 + 1"
   ]
  },
  {
   "cell_type": "code",
   "execution_count": 14,
   "id": "44411b89",
   "metadata": {
    "execution": {
     "iopub.execute_input": "2024-04-02T10:22:50.170990Z",
     "iopub.status.busy": "2024-04-02T10:22:50.170165Z",
     "iopub.status.idle": "2024-04-02T10:22:50.175046Z",
     "shell.execute_reply": "2024-04-02T10:22:50.174035Z"
    },
    "papermill": {
     "duration": 0.017953,
     "end_time": "2024-04-02T10:22:50.177204",
     "exception": false,
     "start_time": "2024-04-02T10:22:50.159251",
     "status": "completed"
    },
    "tags": []
   },
   "outputs": [],
   "source": [
    "#q3.b.hint()"
   ]
  },
  {
   "cell_type": "code",
   "execution_count": 15,
   "id": "ac684b8c",
   "metadata": {
    "execution": {
     "iopub.execute_input": "2024-04-02T10:22:50.198327Z",
     "iopub.status.busy": "2024-04-02T10:22:50.197444Z",
     "iopub.status.idle": "2024-04-02T10:22:50.206538Z",
     "shell.execute_reply": "2024-04-02T10:22:50.205423Z"
    },
    "papermill": {
     "duration": 0.02236,
     "end_time": "2024-04-02T10:22:50.208706",
     "exception": false,
     "start_time": "2024-04-02T10:22:50.186346",
     "status": "completed"
    },
    "tags": []
   },
   "outputs": [
    {
     "data": {
      "application/javascript": [
       "parent.postMessage({\"jupyterEvent\": \"custom.exercise_interaction\", \"data\": {\"interactionType\": 3, \"questionType\": 4, \"questionId\": \"3.2_ArithmeticParensHard\", \"learnToolsVersion\": \"0.3.4\", \"valueTowardsCompletion\": 0.0, \"failureMessage\": \"\", \"exceptionClass\": \"\", \"trace\": \"\", \"outcomeType\": 4}}, \"*\")"
      ],
      "text/plain": [
       "<IPython.core.display.Javascript object>"
      ]
     },
     "metadata": {},
     "output_type": "display_data"
    },
    {
     "data": {
      "text/markdown": [
       "<span style=\"color:#33cc99\">Solution:</span> `(8 - 3) * (2 - (1 + 1))` is one solution. There may be others."
      ],
      "text/plain": [
       "Solution: `(8 - 3) * (2 - (1 + 1))` is one solution. There may be others."
      ]
     },
     "metadata": {},
     "output_type": "display_data"
    }
   ],
   "source": [
    "# Check your answer (Run this code cell to receive credit!)\n",
    "q3.b.solution()"
   ]
  },
  {
   "cell_type": "markdown",
   "id": "d6d94156",
   "metadata": {
    "papermill": {
     "duration": 0.009108,
     "end_time": "2024-04-02T10:22:50.227452",
     "exception": false,
     "start_time": "2024-04-02T10:22:50.218344",
     "status": "completed"
    },
    "tags": []
   },
   "source": [
    "<hr/>\n",
    "\n",
    "# 4. \n",
    "Alice, Bob and Carol have agreed to pool their Halloween candy and split it evenly among themselves.\n",
    "For the sake of their friendship, any candies left over will be smashed. For example, if they collectively\n",
    "bring home 91 candies, they'll take 30 each and smash 1.\n",
    "\n",
    "Write an arithmetic expression below to calculate how many candies they must smash for a given haul."
   ]
  },
  {
   "cell_type": "code",
   "execution_count": 16,
   "id": "58ac05f5",
   "metadata": {
    "execution": {
     "iopub.execute_input": "2024-04-02T10:22:50.248268Z",
     "iopub.status.busy": "2024-04-02T10:22:50.247806Z",
     "iopub.status.idle": "2024-04-02T10:22:50.258742Z",
     "shell.execute_reply": "2024-04-02T10:22:50.257647Z"
    },
    "papermill": {
     "duration": 0.02389,
     "end_time": "2024-04-02T10:22:50.260791",
     "exception": false,
     "start_time": "2024-04-02T10:22:50.236901",
     "status": "completed"
    },
    "tags": []
   },
   "outputs": [
    {
     "data": {
      "application/javascript": [
       "parent.postMessage({\"jupyterEvent\": \"custom.exercise_interaction\", \"data\": {\"outcomeType\": 1, \"valueTowardsCompletion\": 0.25, \"interactionType\": 1, \"questionType\": 1, \"questionId\": \"4_CandySplitting\", \"learnToolsVersion\": \"0.3.4\", \"failureMessage\": \"\", \"exceptionClass\": \"\", \"trace\": \"\"}}, \"*\")"
      ],
      "text/plain": [
       "<IPython.core.display.Javascript object>"
      ]
     },
     "metadata": {},
     "output_type": "display_data"
    },
    {
     "data": {
      "text/markdown": [
       "<span style=\"color:#33cc33\">Correct</span>"
      ],
      "text/plain": [
       "Correct"
      ]
     },
     "metadata": {},
     "output_type": "display_data"
    }
   ],
   "source": [
    "# Variables representing the number of candies collected by Alice, Bob, and Carol\n",
    "alice_candies = 121\n",
    "bob_candies = 77\n",
    "carol_candies = 109\n",
    "\n",
    "# Calculate the total number of candies\n",
    "total_candies = alice_candies + bob_candies + carol_candies\n",
    "\n",
    "# Calculate the number of candies to smash\n",
    "to_smash = total_candies % 3\n",
    "\n",
    "# Check your answer\n",
    "q4.check()\n"
   ]
  },
  {
   "cell_type": "code",
   "execution_count": null,
   "id": "a5e773f4",
   "metadata": {
    "papermill": {
     "duration": 0.00954,
     "end_time": "2024-04-02T10:22:50.280777",
     "exception": false,
     "start_time": "2024-04-02T10:22:50.271237",
     "status": "completed"
    },
    "tags": []
   },
   "outputs": [],
   "source": []
  },
  {
   "cell_type": "code",
   "execution_count": null,
   "id": "76d83a5a",
   "metadata": {
    "papermill": {
     "duration": 0.009462,
     "end_time": "2024-04-02T10:22:50.300532",
     "exception": false,
     "start_time": "2024-04-02T10:22:50.291070",
     "status": "completed"
    },
    "tags": []
   },
   "outputs": [],
   "source": []
  },
  {
   "cell_type": "code",
   "execution_count": 17,
   "id": "453ced42",
   "metadata": {
    "execution": {
     "iopub.execute_input": "2024-04-02T10:22:50.322180Z",
     "iopub.status.busy": "2024-04-02T10:22:50.321763Z",
     "iopub.status.idle": "2024-04-02T10:22:50.326623Z",
     "shell.execute_reply": "2024-04-02T10:22:50.325391Z"
    },
    "papermill": {
     "duration": 0.018271,
     "end_time": "2024-04-02T10:22:50.329039",
     "exception": false,
     "start_time": "2024-04-02T10:22:50.310768",
     "status": "completed"
    },
    "tags": []
   },
   "outputs": [],
   "source": [
    "#q4.hint()\n",
    "#q4.solution()"
   ]
  },
  {
   "cell_type": "markdown",
   "id": "3d8e48bd",
   "metadata": {
    "papermill": {
     "duration": 0.009302,
     "end_time": "2024-04-02T10:22:50.348087",
     "exception": false,
     "start_time": "2024-04-02T10:22:50.338785",
     "status": "completed"
    },
    "tags": []
   },
   "source": [
    "# Keep Going\n",
    "\n",
    "Next up, you'll **[learn to write new functions and understand functions others write](https://www.kaggle.com/colinmorris/functions-and-getting-help)**. This will make you at least 10 times more productive as a Python programmer. "
   ]
  },
  {
   "cell_type": "code",
   "execution_count": null,
   "id": "a0f02526",
   "metadata": {
    "papermill": {
     "duration": 0.009298,
     "end_time": "2024-04-02T10:22:50.367061",
     "exception": false,
     "start_time": "2024-04-02T10:22:50.357763",
     "status": "completed"
    },
    "tags": []
   },
   "outputs": [],
   "source": []
  },
  {
   "cell_type": "code",
   "execution_count": null,
   "id": "065b0ff3",
   "metadata": {
    "papermill": {
     "duration": 0.009337,
     "end_time": "2024-04-02T10:22:50.386031",
     "exception": false,
     "start_time": "2024-04-02T10:22:50.376694",
     "status": "completed"
    },
    "tags": []
   },
   "outputs": [],
   "source": []
  }
 ],
 "metadata": {
  "kaggle": {
   "accelerator": "none",
   "dataSources": [
    {
     "sourceId": 169883795,
     "sourceType": "kernelVersion"
    },
    {
     "sourceId": 169711584,
     "sourceType": "kernelVersion"
    }
   ],
   "isGpuEnabled": false,
   "isInternetEnabled": false,
   "language": "python",
   "sourceType": "notebook"
  },
  "kernelspec": {
   "display_name": "Python 3",
   "language": "python",
   "name": "python3"
  },
  "language_info": {
   "codemirror_mode": {
    "name": "ipython",
    "version": 3
   },
   "file_extension": ".py",
   "mimetype": "text/x-python",
   "name": "python",
   "nbconvert_exporter": "python",
   "pygments_lexer": "ipython3",
   "version": "3.10.13"
  },
  "learntools_metadata": {
   "lesson_index": 0,
   "type": "exercise"
  },
  "papermill": {
   "default_parameters": {},
   "duration": 5.187174,
   "end_time": "2024-04-02T10:22:50.918509",
   "environment_variables": {},
   "exception": null,
   "input_path": "__notebook__.ipynb",
   "output_path": "__notebook__.ipynb",
   "parameters": {},
   "start_time": "2024-04-02T10:22:45.731335",
   "version": "2.5.0"
  }
 },
 "nbformat": 4,
 "nbformat_minor": 5
}
