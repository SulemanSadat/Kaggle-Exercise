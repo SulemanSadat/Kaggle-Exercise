{
 "cells": [
  {
   "cell_type": "markdown",
   "id": "4f6a512b",
   "metadata": {
    "papermill": {
     "duration": 0.005888,
     "end_time": "2024-04-02T12:15:10.508686",
     "exception": false,
     "start_time": "2024-04-02T12:15:10.502798",
     "status": "completed"
    },
    "tags": []
   },
   "source": [
    "**This notebook is an exercise in the [Python](https://www.kaggle.com/learn/python) course.  You can reference the tutorial at [this link](https://www.kaggle.com/colinmorris/functions-and-getting-help).**\n",
    "\n",
    "---\n"
   ]
  },
  {
   "cell_type": "markdown",
   "id": "99e078de",
   "metadata": {
    "papermill": {
     "duration": 0.005363,
     "end_time": "2024-04-02T12:15:10.519675",
     "exception": false,
     "start_time": "2024-04-02T12:15:10.514312",
     "status": "completed"
    },
    "tags": []
   },
   "source": [
    "Functions are powerful. Try writing some yourself.\n",
    "\n",
    "As before, don't forget to run the setup code below before jumping into question 1."
   ]
  },
  {
   "cell_type": "code",
   "execution_count": 1,
   "id": "93f65850",
   "metadata": {
    "_kg_hide-input": true,
    "_kg_hide-output": true,
    "execution": {
     "iopub.execute_input": "2024-04-02T12:15:10.532654Z",
     "iopub.status.busy": "2024-04-02T12:15:10.532011Z",
     "iopub.status.idle": "2024-04-02T12:15:11.431829Z",
     "shell.execute_reply": "2024-04-02T12:15:11.430858Z"
    },
    "papermill": {
     "duration": 0.908867,
     "end_time": "2024-04-02T12:15:11.434195",
     "exception": false,
     "start_time": "2024-04-02T12:15:10.525328",
     "status": "completed"
    },
    "tags": []
   },
   "outputs": [
    {
     "name": "stdout",
     "output_type": "stream",
     "text": [
      "Setup complete.\n"
     ]
    }
   ],
   "source": [
    "# SETUP. You don't need to worry for now about what this code does or how it works.\n",
    "from learntools.core import binder; binder.bind(globals())\n",
    "from learntools.python.ex2 import *\n",
    "print('Setup complete.')"
   ]
  },
  {
   "cell_type": "markdown",
   "id": "010631f0",
   "metadata": {
    "papermill": {
     "duration": 0.005434,
     "end_time": "2024-04-02T12:15:11.445477",
     "exception": false,
     "start_time": "2024-04-02T12:15:11.440043",
     "status": "completed"
    },
    "tags": []
   },
   "source": [
    "# 1.\n",
    "\n",
    "Complete the body of the following function according to its docstring.\n",
    "\n",
    "HINT: Python has a built-in function `round`."
   ]
  },
  {
   "cell_type": "code",
   "execution_count": 2,
   "id": "90af9252",
   "metadata": {
    "execution": {
     "iopub.execute_input": "2024-04-02T12:15:11.457536Z",
     "iopub.status.busy": "2024-04-02T12:15:11.457156Z",
     "iopub.status.idle": "2024-04-02T12:15:11.466109Z",
     "shell.execute_reply": "2024-04-02T12:15:11.465308Z"
    },
    "papermill": {
     "duration": 0.017335,
     "end_time": "2024-04-02T12:15:11.468305",
     "exception": false,
     "start_time": "2024-04-02T12:15:11.450970",
     "status": "completed"
    },
    "tags": []
   },
   "outputs": [
    {
     "data": {
      "application/javascript": [
       "parent.postMessage({\"jupyterEvent\": \"custom.exercise_interaction\", \"data\": {\"outcomeType\": 1, \"valueTowardsCompletion\": 0.16666666666666666, \"interactionType\": 1, \"questionType\": 2, \"questionId\": \"1_RoundFunctionProblem\", \"learnToolsVersion\": \"0.3.4\", \"failureMessage\": \"\", \"exceptionClass\": \"\", \"trace\": \"\"}}, \"*\")"
      ],
      "text/plain": [
       "<IPython.core.display.Javascript object>"
      ]
     },
     "metadata": {},
     "output_type": "display_data"
    },
    {
     "data": {
      "text/markdown": [
       "<span style=\"color:#33cc33\">Correct</span>"
      ],
      "text/plain": [
       "Correct"
      ]
     },
     "metadata": {},
     "output_type": "display_data"
    }
   ],
   "source": [
    "def round_to_two_places(num):\n",
    "    \"\"\"Return the given number rounded to two decimal places. \n",
    "         \n",
    "    >>> round_to_two_places(3.14159)\n",
    "    3.14\n",
    "    \"\"\"\n",
    "    return round(num, 2)\n",
    "    # (\"pass\" is a keyword that does literally nothing. We used it as a placeholder\n",
    "    # because after we begin a code block, Python requires at least one line of code)\n",
    "    pass\n",
    "\n",
    "# Check your answer\n",
    "q1.check()"
   ]
  },
  {
   "cell_type": "code",
   "execution_count": 3,
   "id": "14b37f84",
   "metadata": {
    "execution": {
     "iopub.execute_input": "2024-04-02T12:15:11.481986Z",
     "iopub.status.busy": "2024-04-02T12:15:11.481719Z",
     "iopub.status.idle": "2024-04-02T12:15:11.488828Z",
     "shell.execute_reply": "2024-04-02T12:15:11.488006Z"
    },
    "papermill": {
     "duration": 0.01635,
     "end_time": "2024-04-02T12:15:11.490927",
     "exception": false,
     "start_time": "2024-04-02T12:15:11.474577",
     "status": "completed"
    },
    "tags": []
   },
   "outputs": [
    {
     "data": {
      "application/javascript": [
       "parent.postMessage({\"jupyterEvent\": \"custom.exercise_interaction\", \"data\": {\"interactionType\": 2, \"questionType\": 2, \"questionId\": \"1_RoundFunctionProblem\", \"learnToolsVersion\": \"0.3.4\", \"valueTowardsCompletion\": 0.0, \"failureMessage\": \"\", \"exceptionClass\": \"\", \"trace\": \"\", \"outcomeType\": 4}}, \"*\")"
      ],
      "text/plain": [
       "<IPython.core.display.Javascript object>"
      ]
     },
     "metadata": {},
     "output_type": "display_data"
    },
    {
     "data": {
      "text/markdown": [
       "<span style=\"color:#3366cc\">Hint:</span> Run `help(round)` in the console (or in a code cell) to learn more about the round function. You'll need to use the function's optional second argument."
      ],
      "text/plain": [
       "Hint: Run `help(round)` in the console (or in a code cell) to learn more about the round function. You'll need to use the function's optional second argument."
      ]
     },
     "metadata": {},
     "output_type": "display_data"
    }
   ],
   "source": [
    "# Uncomment the following for a hint\n",
    "q1.hint()\n",
    "# Or uncomment the following to peek at the solution\n",
    "#q1.solution()"
   ]
  },
  {
   "cell_type": "markdown",
   "id": "b53ddd5a",
   "metadata": {
    "papermill": {
     "duration": 0.006061,
     "end_time": "2024-04-02T12:15:11.504504",
     "exception": false,
     "start_time": "2024-04-02T12:15:11.498443",
     "status": "completed"
    },
    "tags": []
   },
   "source": [
    "# 2.\n",
    "The help for `round` says that `ndigits` (the second argument) may be negative.\n",
    "What do you think will happen when it is? Try some examples in the following cell."
   ]
  },
  {
   "cell_type": "code",
   "execution_count": 4,
   "id": "99a35b45",
   "metadata": {
    "execution": {
     "iopub.execute_input": "2024-04-02T12:15:11.518999Z",
     "iopub.status.busy": "2024-04-02T12:15:11.518708Z",
     "iopub.status.idle": "2024-04-02T12:15:11.528060Z",
     "shell.execute_reply": "2024-04-02T12:15:11.527207Z"
    },
    "papermill": {
     "duration": 0.019366,
     "end_time": "2024-04-02T12:15:11.530440",
     "exception": false,
     "start_time": "2024-04-02T12:15:11.511074",
     "status": "completed"
    },
    "tags": []
   },
   "outputs": [
    {
     "name": "stdout",
     "output_type": "stream",
     "text": [
      "40\n",
      "4300\n",
      "988000\n"
     ]
    },
    {
     "data": {
      "application/javascript": [
       "parent.postMessage({\"jupyterEvent\": \"custom.exercise_interaction\", \"data\": {\"outcomeType\": 1, \"valueTowardsCompletion\": 0.16666666666666666, \"interactionType\": 1, \"questionType\": 4, \"questionId\": \"2_RoundNdigitsProblem\", \"learnToolsVersion\": \"0.3.4\", \"failureMessage\": \"\", \"exceptionClass\": \"\", \"trace\": \"\"}}, \"*\")"
      ],
      "text/plain": [
       "<IPython.core.display.Javascript object>"
      ]
     },
     "metadata": {},
     "output_type": "display_data"
    },
    {
     "data": {
      "text/markdown": [
       "<span style=\"color:#33cc33\">Correct:</span> \n",
       "\n",
       "As you've seen, `ndigits=-1` rounds to the nearest 10, `ndigits=-2` rounds to the nearest 100 and so on. Where might this be useful? Suppose we're dealing with large numbers:\n",
       "\n",
       "> The area of Finland is 338,424 km²  \n",
       "> The area of Greenland is 2,166,086 km²\n",
       "\n",
       "We probably don't care whether it's really 338,424, or 338,425, or 338,177. All those digits of accuracy are just distracting. We can chop them off by calling `round()` with `ndigits=-3`:\n",
       "\n",
       "> The area of Finland is 338,000 km²  \n",
       "> The area of Greenland is 2,166,000 km²\n",
       "\n",
       "(We'll talk about how we would get the commas later when we talk about string formatting :))\n"
      ],
      "text/plain": [
       "Correct: \n",
       "\n",
       "As you've seen, `ndigits=-1` rounds to the nearest 10, `ndigits=-2` rounds to the nearest 100 and so on. Where might this be useful? Suppose we're dealing with large numbers:\n",
       "\n",
       "> The area of Finland is 338,424 km²  \n",
       "> The area of Greenland is 2,166,086 km²\n",
       "\n",
       "We probably don't care whether it's really 338,424, or 338,425, or 338,177. All those digits of accuracy are just distracting. We can chop them off by calling `round()` with `ndigits=-3`:\n",
       "\n",
       "> The area of Finland is 338,000 km²  \n",
       "> The area of Greenland is 2,166,000 km²\n",
       "\n",
       "(We'll talk about how we would get the commas later when we talk about string formatting :))"
      ]
     },
     "metadata": {},
     "output_type": "display_data"
    }
   ],
   "source": [
    "# Example 1: Round to the nearest 10\n",
    "num1 = 37\n",
    "rounded_num1 = round(num1, -1)\n",
    "print(rounded_num1)  # Output: 40\n",
    "\n",
    "# Example 2: Round to the nearest 100\n",
    "num2 = 4321\n",
    "rounded_num2 = round(num2, -2)\n",
    "print(rounded_num2)  # Output: 4300\n",
    "\n",
    "# Example 3: Round to the nearest 1000\n",
    "num3 = 987654\n",
    "rounded_num3 = round(num3, -3)\n",
    "print(rounded_num3)  # Output: 988000\n",
    "q2.check()"
   ]
  },
  {
   "cell_type": "markdown",
   "id": "928d4f3d",
   "metadata": {
    "papermill": {
     "duration": 0.006404,
     "end_time": "2024-04-02T12:15:11.543445",
     "exception": false,
     "start_time": "2024-04-02T12:15:11.537041",
     "status": "completed"
    },
    "tags": []
   },
   "source": [
    "Can you think of a case where this would be useful?  Once you're ready, run the code cell below to see the answer and to receive credit for completing the problem."
   ]
  },
  {
   "cell_type": "code",
   "execution_count": 5,
   "id": "f0c18ccc",
   "metadata": {
    "execution": {
     "iopub.execute_input": "2024-04-02T12:15:11.558103Z",
     "iopub.status.busy": "2024-04-02T12:15:11.557803Z",
     "iopub.status.idle": "2024-04-02T12:15:11.564706Z",
     "shell.execute_reply": "2024-04-02T12:15:11.563832Z"
    },
    "papermill": {
     "duration": 0.015953,
     "end_time": "2024-04-02T12:15:11.566753",
     "exception": false,
     "start_time": "2024-04-02T12:15:11.550800",
     "status": "completed"
    },
    "tags": []
   },
   "outputs": [
    {
     "data": {
      "application/javascript": [
       "parent.postMessage({\"jupyterEvent\": \"custom.exercise_interaction\", \"data\": {\"interactionType\": 3, \"questionType\": 4, \"questionId\": \"2_RoundNdigitsProblem\", \"learnToolsVersion\": \"0.3.4\", \"valueTowardsCompletion\": 0.0, \"failureMessage\": \"\", \"exceptionClass\": \"\", \"trace\": \"\", \"outcomeType\": 4}}, \"*\")"
      ],
      "text/plain": [
       "<IPython.core.display.Javascript object>"
      ]
     },
     "metadata": {},
     "output_type": "display_data"
    },
    {
     "data": {
      "text/markdown": [
       "<span style=\"color:#33cc99\">Solution:</span> As you've seen, `ndigits=-1` rounds to the nearest 10, `ndigits=-2` rounds to the nearest 100 and so on. Where might this be useful? Suppose we're dealing with large numbers:\n",
       "\n",
       "> The area of Finland is 338,424 km²  \n",
       "> The area of Greenland is 2,166,086 km²\n",
       "\n",
       "We probably don't care whether it's really 338,424, or 338,425, or 338,177. All those digits of accuracy are just distracting. We can chop them off by calling `round()` with `ndigits=-3`:\n",
       "\n",
       "> The area of Finland is 338,000 km²  \n",
       "> The area of Greenland is 2,166,000 km²\n",
       "\n",
       "(We'll talk about how we would get the commas later when we talk about string formatting :))\n"
      ],
      "text/plain": [
       "Solution: As you've seen, `ndigits=-1` rounds to the nearest 10, `ndigits=-2` rounds to the nearest 100 and so on. Where might this be useful? Suppose we're dealing with large numbers:\n",
       "\n",
       "> The area of Finland is 338,424 km²  \n",
       "> The area of Greenland is 2,166,086 km²\n",
       "\n",
       "We probably don't care whether it's really 338,424, or 338,425, or 338,177. All those digits of accuracy are just distracting. We can chop them off by calling `round()` with `ndigits=-3`:\n",
       "\n",
       "> The area of Finland is 338,000 km²  \n",
       "> The area of Greenland is 2,166,000 km²\n",
       "\n",
       "(We'll talk about how we would get the commas later when we talk about string formatting :))"
      ]
     },
     "metadata": {},
     "output_type": "display_data"
    }
   ],
   "source": [
    "# Check your answer (Run this code cell to receive credit!)\n",
    "q2.solution()"
   ]
  },
  {
   "cell_type": "markdown",
   "id": "f56f6c55",
   "metadata": {
    "papermill": {
     "duration": 0.006573,
     "end_time": "2024-04-02T12:15:11.580190",
     "exception": false,
     "start_time": "2024-04-02T12:15:11.573617",
     "status": "completed"
    },
    "tags": []
   },
   "source": [
    "# 3.\n",
    "\n",
    "In the previous exercise, the candy-sharing friends Alice, Bob and Carol tried to split candies evenly. For the sake of their friendship, any candies left over would be smashed. For example, if they collectively bring home 91 candies, they'll take 30 each and smash 1.\n",
    "\n",
    "Below is a simple function that will calculate the number of candies to smash for *any* number of total candies.\n",
    "\n",
    "Modify it so that it optionally takes a second argument representing the number of friends the candies are being split between. If no second argument is provided, it should assume 3 friends, as before.\n",
    "\n",
    "Update the docstring to reflect this new behaviour."
   ]
  },
  {
   "cell_type": "code",
   "execution_count": 6,
   "id": "fae96fcb",
   "metadata": {
    "execution": {
     "iopub.execute_input": "2024-04-02T12:15:11.595903Z",
     "iopub.status.busy": "2024-04-02T12:15:11.595327Z",
     "iopub.status.idle": "2024-04-02T12:15:11.604253Z",
     "shell.execute_reply": "2024-04-02T12:15:11.603413Z"
    },
    "papermill": {
     "duration": 0.018884,
     "end_time": "2024-04-02T12:15:11.606644",
     "exception": false,
     "start_time": "2024-04-02T12:15:11.587760",
     "status": "completed"
    },
    "tags": []
   },
   "outputs": [
    {
     "name": "stdout",
     "output_type": "stream",
     "text": [
      "1\n",
      "3\n",
      "1\n"
     ]
    },
    {
     "data": {
      "application/javascript": [
       "parent.postMessage({\"jupyterEvent\": \"custom.exercise_interaction\", \"data\": {\"outcomeType\": 1, \"valueTowardsCompletion\": 0.16666666666666666, \"interactionType\": 1, \"questionType\": 2, \"questionId\": \"3_CandySmashingFunctionProblem\", \"learnToolsVersion\": \"0.3.4\", \"failureMessage\": \"\", \"exceptionClass\": \"\", \"trace\": \"\"}}, \"*\")"
      ],
      "text/plain": [
       "<IPython.core.display.Javascript object>"
      ]
     },
     "metadata": {},
     "output_type": "display_data"
    },
    {
     "data": {
      "text/markdown": [
       "<span style=\"color:#33cc33\">Correct</span>"
      ],
      "text/plain": [
       "Correct"
      ]
     },
     "metadata": {},
     "output_type": "display_data"
    }
   ],
   "source": [
    "def to_smash(total_candies, num_friends=3):\n",
    "    \"\"\"Return the number of leftover candies that must be smashed after evenly splitting candies among friends.\n",
    "    \n",
    "    total_candies: int, the total number of candies\n",
    "    num_friends: int, optional, the number of friends to split the candies between (default is 3)\n",
    "    \n",
    "    Returns:\n",
    "    int, the number of candies to smash\n",
    "    \"\"\"\n",
    "    return total_candies % num_friends\n",
    "\n",
    "# Test cases\n",
    "print(to_smash(91))  \n",
    "print(to_smash(91, 4)) \n",
    "print(to_smash(91, 2)) \n",
    "\n",
    "q3.check()"
   ]
  },
  {
   "cell_type": "code",
   "execution_count": 7,
   "id": "6729160f",
   "metadata": {
    "execution": {
     "iopub.execute_input": "2024-04-02T12:15:11.621774Z",
     "iopub.status.busy": "2024-04-02T12:15:11.621507Z",
     "iopub.status.idle": "2024-04-02T12:15:11.628438Z",
     "shell.execute_reply": "2024-04-02T12:15:11.627606Z"
    },
    "papermill": {
     "duration": 0.016835,
     "end_time": "2024-04-02T12:15:11.630453",
     "exception": false,
     "start_time": "2024-04-02T12:15:11.613618",
     "status": "completed"
    },
    "tags": []
   },
   "outputs": [
    {
     "data": {
      "application/javascript": [
       "parent.postMessage({\"jupyterEvent\": \"custom.exercise_interaction\", \"data\": {\"interactionType\": 2, \"questionType\": 2, \"questionId\": \"3_CandySmashingFunctionProblem\", \"learnToolsVersion\": \"0.3.4\", \"valueTowardsCompletion\": 0.0, \"failureMessage\": \"\", \"exceptionClass\": \"\", \"trace\": \"\", \"outcomeType\": 4}}, \"*\")"
      ],
      "text/plain": [
       "<IPython.core.display.Javascript object>"
      ]
     },
     "metadata": {},
     "output_type": "display_data"
    },
    {
     "data": {
      "text/markdown": [
       "<span style=\"color:#3366cc\">Hint:</span> Refer to the section of the last tutorial notebook where we talked about default arguments"
      ],
      "text/plain": [
       "Hint: Refer to the section of the last tutorial notebook where we talked about default arguments"
      ]
     },
     "metadata": {},
     "output_type": "display_data"
    }
   ],
   "source": [
    "q3.hint()"
   ]
  },
  {
   "cell_type": "code",
   "execution_count": 8,
   "id": "ff88b9d2",
   "metadata": {
    "execution": {
     "iopub.execute_input": "2024-04-02T12:15:11.646943Z",
     "iopub.status.busy": "2024-04-02T12:15:11.646675Z",
     "iopub.status.idle": "2024-04-02T12:15:11.655602Z",
     "shell.execute_reply": "2024-04-02T12:15:11.654669Z"
    },
    "papermill": {
     "duration": 0.019638,
     "end_time": "2024-04-02T12:15:11.657777",
     "exception": false,
     "start_time": "2024-04-02T12:15:11.638139",
     "status": "completed"
    },
    "tags": []
   },
   "outputs": [
    {
     "data": {
      "application/javascript": [
       "parent.postMessage({\"jupyterEvent\": \"custom.exercise_interaction\", \"data\": {\"interactionType\": 3, \"questionType\": 2, \"questionId\": \"3_CandySmashingFunctionProblem\", \"learnToolsVersion\": \"0.3.4\", \"valueTowardsCompletion\": 0.0, \"failureMessage\": \"\", \"exceptionClass\": \"\", \"trace\": \"\", \"outcomeType\": 4}}, \"*\")"
      ],
      "text/plain": [
       "<IPython.core.display.Javascript object>"
      ]
     },
     "metadata": {},
     "output_type": "display_data"
    },
    {
     "data": {
      "text/markdown": [
       "<span style=\"color:#33cc99\">Solution:</span> \n",
       "```python\n",
       "def to_smash(total_candies, n_friends=3):\n",
       "    return total_candies % n_friends\n",
       "```"
      ],
      "text/plain": [
       "Solution: \n",
       "```python\n",
       "def to_smash(total_candies, n_friends=3):\n",
       "    return total_candies % n_friends\n",
       "```"
      ]
     },
     "metadata": {},
     "output_type": "display_data"
    }
   ],
   "source": [
    "q3.solution()"
   ]
  },
  {
   "cell_type": "markdown",
   "id": "9cbd6885",
   "metadata": {
    "papermill": {
     "duration": 0.008622,
     "end_time": "2024-04-02T12:15:11.674879",
     "exception": false,
     "start_time": "2024-04-02T12:15:11.666257",
     "status": "completed"
    },
    "tags": []
   },
   "source": [
    "# 4. (Optional)\n",
    "\n",
    "It may not be fun, but reading and understanding error messages will be an important part of your Python career.\n",
    "\n",
    "Each code cell below contains some commented buggy code. For each cell...\n",
    "\n",
    "1. Read the code and predict what you think will happen when it's run.\n",
    "2. Then uncomment the code and run it to see what happens. (**Tip**: In the kernel editor, you can highlight several lines and press `ctrl`+`/` to toggle commenting.)\n",
    "3. Fix the code (so that it accomplishes its intended purpose without throwing an exception)\n",
    "\n",
    "<!-- TODO: should this be autochecked? Delta is probably pretty small. -->"
   ]
  },
  {
   "cell_type": "code",
   "execution_count": 9,
   "id": "2d9f1b99",
   "metadata": {
    "execution": {
     "iopub.execute_input": "2024-04-02T12:15:11.693559Z",
     "iopub.status.busy": "2024-04-02T12:15:11.692783Z",
     "iopub.status.idle": "2024-04-02T12:15:11.697162Z",
     "shell.execute_reply": "2024-04-02T12:15:11.696232Z"
    },
    "papermill": {
     "duration": 0.015723,
     "end_time": "2024-04-02T12:15:11.699233",
     "exception": false,
     "start_time": "2024-04-02T12:15:11.683510",
     "status": "completed"
    },
    "tags": []
   },
   "outputs": [],
   "source": [
    "# ruound_to_two_places(9.9999)"
   ]
  },
  {
   "cell_type": "code",
   "execution_count": 10,
   "id": "863b4aad",
   "metadata": {
    "execution": {
     "iopub.execute_input": "2024-04-02T12:15:11.717582Z",
     "iopub.status.busy": "2024-04-02T12:15:11.717270Z",
     "iopub.status.idle": "2024-04-02T12:15:11.721173Z",
     "shell.execute_reply": "2024-04-02T12:15:11.720208Z"
    },
    "papermill": {
     "duration": 0.015573,
     "end_time": "2024-04-02T12:15:11.723425",
     "exception": false,
     "start_time": "2024-04-02T12:15:11.707852",
     "status": "completed"
    },
    "tags": []
   },
   "outputs": [],
   "source": [
    "# x = -10\n",
    "# y = 5\n",
    "# # Which of the two variables above has the smallest absolute value?\n",
    "# smallest_abs = min(abs(x, y))"
   ]
  },
  {
   "cell_type": "code",
   "execution_count": 11,
   "id": "74a1bee2",
   "metadata": {
    "execution": {
     "iopub.execute_input": "2024-04-02T12:15:11.742178Z",
     "iopub.status.busy": "2024-04-02T12:15:11.741914Z",
     "iopub.status.idle": "2024-04-02T12:15:11.745894Z",
     "shell.execute_reply": "2024-04-02T12:15:11.744959Z"
    },
    "papermill": {
     "duration": 0.015905,
     "end_time": "2024-04-02T12:15:11.747986",
     "exception": false,
     "start_time": "2024-04-02T12:15:11.732081",
     "status": "completed"
    },
    "tags": []
   },
   "outputs": [],
   "source": [
    "# def f(x):\n",
    "#     y = abs(x)\n",
    "# return y\n",
    "\n",
    "# print(f(5))"
   ]
  },
  {
   "cell_type": "markdown",
   "id": "1bf2c851",
   "metadata": {
    "papermill": {
     "duration": 0.008376,
     "end_time": "2024-04-02T12:15:11.764992",
     "exception": false,
     "start_time": "2024-04-02T12:15:11.756616",
     "status": "completed"
    },
    "tags": []
   },
   "source": [
    "# Keep Going\n",
    "\n",
    "Nice job with the code. Next up, you'll learn about *conditionals*, which you'll need to **[write interesting programs](https://www.kaggle.com/colinmorris/booleans-and-conditionals)**. "
   ]
  },
  {
   "cell_type": "markdown",
   "id": "92fd875a",
   "metadata": {
    "papermill": {
     "duration": 0.008345,
     "end_time": "2024-04-02T12:15:11.782025",
     "exception": false,
     "start_time": "2024-04-02T12:15:11.773680",
     "status": "completed"
    },
    "tags": []
   },
   "source": [
    "---\n",
    "\n",
    "\n",
    "\n",
    "\n",
    "*Have questions or comments? Visit the [course discussion forum](https://www.kaggle.com/learn/python/discussion) to chat with other learners.*"
   ]
  }
 ],
 "metadata": {
  "kaggle": {
   "accelerator": "nvidiaTeslaT4",
   "dataSources": [],
   "isGpuEnabled": true,
   "isInternetEnabled": false,
   "language": "python",
   "sourceType": "notebook"
  },
  "kernelspec": {
   "display_name": "Python 3",
   "language": "python",
   "name": "python3"
  },
  "language_info": {
   "codemirror_mode": {
    "name": "ipython",
    "version": 3
   },
   "file_extension": ".py",
   "mimetype": "text/x-python",
   "name": "python",
   "nbconvert_exporter": "python",
   "pygments_lexer": "ipython3",
   "version": "3.10.13"
  },
  "learntools_metadata": {
   "lesson_index": 1,
   "type": "exercise"
  },
  "papermill": {
   "default_parameters": {},
   "duration": 4.629057,
   "end_time": "2024-04-02T12:15:12.108822",
   "environment_variables": {},
   "exception": null,
   "input_path": "__notebook__.ipynb",
   "output_path": "__notebook__.ipynb",
   "parameters": {},
   "start_time": "2024-04-02T12:15:07.479765",
   "version": "2.5.0"
  }
 },
 "nbformat": 4,
 "nbformat_minor": 5
}
