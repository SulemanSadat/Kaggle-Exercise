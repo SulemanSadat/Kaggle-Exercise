{
 "cells": [
  {
   "cell_type": "markdown",
   "id": "5d09927a",
   "metadata": {
    "papermill": {
     "duration": 0.005865,
     "end_time": "2024-04-02T12:33:54.600427",
     "exception": false,
     "start_time": "2024-04-02T12:33:54.594562",
     "status": "completed"
    },
    "tags": []
   },
   "source": [
    "**This notebook is an exercise in the [Python](https://www.kaggle.com/learn/python) course.  You can reference the tutorial at [this link](https://www.kaggle.com/colinmorris/strings-and-dictionaries).**\n",
    "\n",
    "---\n"
   ]
  },
  {
   "cell_type": "markdown",
   "id": "a4177b8a",
   "metadata": {
    "papermill": {
     "duration": 0.004994,
     "end_time": "2024-04-02T12:33:54.612480",
     "exception": false,
     "start_time": "2024-04-02T12:33:54.607486",
     "status": "completed"
    },
    "tags": []
   },
   "source": [
    "You are almost done with the course. Nice job!\n",
    "\n",
    "We have a couple more interesting problems for you before you go. \n",
    "\n",
    "As always, run the setup code below before working on the questions."
   ]
  },
  {
   "cell_type": "code",
   "execution_count": 1,
   "id": "19cb1e8a",
   "metadata": {
    "execution": {
     "iopub.execute_input": "2024-04-02T12:33:54.624238Z",
     "iopub.status.busy": "2024-04-02T12:33:54.623901Z",
     "iopub.status.idle": "2024-04-02T12:33:55.531228Z",
     "shell.execute_reply": "2024-04-02T12:33:55.530125Z"
    },
    "papermill": {
     "duration": 0.916723,
     "end_time": "2024-04-02T12:33:55.534394",
     "exception": false,
     "start_time": "2024-04-02T12:33:54.617671",
     "status": "completed"
    },
    "tags": []
   },
   "outputs": [
    {
     "name": "stdout",
     "output_type": "stream",
     "text": [
      "Setup complete.\n"
     ]
    }
   ],
   "source": [
    "from learntools.core import binder; binder.bind(globals())\n",
    "from learntools.python.ex6 import *\n",
    "print('Setup complete.')"
   ]
  },
  {
   "cell_type": "markdown",
   "id": "8b0adce3",
   "metadata": {
    "papermill": {
     "duration": 0.005552,
     "end_time": "2024-04-02T12:33:55.545761",
     "exception": false,
     "start_time": "2024-04-02T12:33:55.540209",
     "status": "completed"
    },
    "tags": []
   },
   "source": [
    "Let's start with a string lightning round to warm up. What are the lengths of the strings below?\n",
    "\n",
    "For each of the five strings below, predict what `len()` would return when passed that string. Use the variable `length` to record your answer, then run the cell to check whether you were right.  \n",
    "\n",
    "# 0a."
   ]
  },
  {
   "cell_type": "code",
   "execution_count": 2,
   "id": "83930cd2",
   "metadata": {
    "execution": {
     "iopub.execute_input": "2024-04-02T12:33:55.559213Z",
     "iopub.status.busy": "2024-04-02T12:33:55.557936Z",
     "iopub.status.idle": "2024-04-02T12:33:55.566698Z",
     "shell.execute_reply": "2024-04-02T12:33:55.565893Z"
    },
    "papermill": {
     "duration": 0.01787,
     "end_time": "2024-04-02T12:33:55.568873",
     "exception": false,
     "start_time": "2024-04-02T12:33:55.551003",
     "status": "completed"
    },
    "tags": []
   },
   "outputs": [
    {
     "data": {
      "application/javascript": [
       "parent.postMessage({\"jupyterEvent\": \"custom.exercise_interaction\", \"data\": {\"outcomeType\": 1, \"valueTowardsCompletion\": 0.3333333333333333, \"interactionType\": 1, \"questionType\": 1, \"questionId\": \"0.1_ZA\", \"learnToolsVersion\": \"0.3.4\", \"failureMessage\": \"\", \"exceptionClass\": \"\", \"trace\": \"\"}}, \"*\")"
      ],
      "text/plain": [
       "<IPython.core.display.Javascript object>"
      ]
     },
     "metadata": {},
     "output_type": "display_data"
    },
    {
     "data": {
      "text/markdown": [
       "<span style=\"color:#33cc33\">Correct:</span> \n",
       "\n",
       "The empty string has length zero. Note that the empty string is also the only string that Python considers as False when converting to boolean."
      ],
      "text/plain": [
       "Correct: \n",
       "\n",
       "The empty string has length zero. Note that the empty string is also the only string that Python considers as False when converting to boolean."
      ]
     },
     "metadata": {},
     "output_type": "display_data"
    }
   ],
   "source": [
    "a = \"\"       # Empty string\n",
    "length = 0\n",
    "q0.a.check()\n"
   ]
  },
  {
   "cell_type": "markdown",
   "id": "0f0565c4",
   "metadata": {
    "papermill": {
     "duration": 0.005282,
     "end_time": "2024-04-02T12:33:55.579715",
     "exception": false,
     "start_time": "2024-04-02T12:33:55.574433",
     "status": "completed"
    },
    "tags": []
   },
   "source": [
    "# 0b."
   ]
  },
  {
   "cell_type": "code",
   "execution_count": 3,
   "id": "e85d4316",
   "metadata": {
    "execution": {
     "iopub.execute_input": "2024-04-02T12:33:55.592624Z",
     "iopub.status.busy": "2024-04-02T12:33:55.592019Z",
     "iopub.status.idle": "2024-04-02T12:33:55.604359Z",
     "shell.execute_reply": "2024-04-02T12:33:55.603263Z"
    },
    "papermill": {
     "duration": 0.021233,
     "end_time": "2024-04-02T12:33:55.606435",
     "exception": false,
     "start_time": "2024-04-02T12:33:55.585202",
     "status": "completed"
    },
    "tags": []
   },
   "outputs": [
    {
     "data": {
      "application/javascript": [
       "parent.postMessage({\"jupyterEvent\": \"custom.exercise_interaction\", \"data\": {\"outcomeType\": 1, \"valueTowardsCompletion\": 0.3333333333333333, \"interactionType\": 1, \"questionType\": 1, \"questionId\": \"0.2_ZB\", \"learnToolsVersion\": \"0.3.4\", \"failureMessage\": \"\", \"exceptionClass\": \"\", \"trace\": \"\"}}, \"*\")"
      ],
      "text/plain": [
       "<IPython.core.display.Javascript object>"
      ]
     },
     "metadata": {},
     "output_type": "display_data"
    },
    {
     "data": {
      "text/markdown": [
       "<span style=\"color:#33cc33\">Correct:</span> \n",
       "\n",
       "Keep in mind Python includes spaces (and punctuation) when counting string length."
      ],
      "text/plain": [
       "Correct: \n",
       "\n",
       "Keep in mind Python includes spaces (and punctuation) when counting string length."
      ]
     },
     "metadata": {},
     "output_type": "display_data"
    },
    {
     "data": {
      "application/javascript": [
       "parent.postMessage({\"jupyterEvent\": \"custom.exercise_interaction\", \"data\": {\"interactionType\": 3, \"questionType\": 1, \"questionId\": \"0.2_ZB\", \"learnToolsVersion\": \"0.3.4\", \"valueTowardsCompletion\": 0.0, \"failureMessage\": \"\", \"exceptionClass\": \"\", \"trace\": \"\", \"outcomeType\": 4}}, \"*\")"
      ],
      "text/plain": [
       "<IPython.core.display.Javascript object>"
      ]
     },
     "metadata": {},
     "output_type": "display_data"
    },
    {
     "data": {
      "text/markdown": [
       "<span style=\"color:#33cc99\">Solution:</span> Keep in mind Python includes spaces (and punctuation) when counting string length."
      ],
      "text/plain": [
       "Solution: Keep in mind Python includes spaces (and punctuation) when counting string length."
      ]
     },
     "metadata": {},
     "output_type": "display_data"
    }
   ],
   "source": [
    "b = \"it's ok\"\n",
    "length = 7\n",
    "q0.b.check()\n",
    "q0.b.solution()\n"
   ]
  },
  {
   "cell_type": "markdown",
   "id": "89a20292",
   "metadata": {
    "papermill": {
     "duration": 0.005717,
     "end_time": "2024-04-02T12:33:55.618184",
     "exception": false,
     "start_time": "2024-04-02T12:33:55.612467",
     "status": "completed"
    },
    "tags": []
   },
   "source": [
    "# 0c."
   ]
  },
  {
   "cell_type": "code",
   "execution_count": 4,
   "id": "dc905df1",
   "metadata": {
    "execution": {
     "iopub.execute_input": "2024-04-02T12:33:55.632163Z",
     "iopub.status.busy": "2024-04-02T12:33:55.631328Z",
     "iopub.status.idle": "2024-04-02T12:33:55.638840Z",
     "shell.execute_reply": "2024-04-02T12:33:55.637773Z"
    },
    "papermill": {
     "duration": 0.017075,
     "end_time": "2024-04-02T12:33:55.641186",
     "exception": false,
     "start_time": "2024-04-02T12:33:55.624111",
     "status": "completed"
    },
    "tags": []
   },
   "outputs": [
    {
     "data": {
      "application/javascript": [
       "parent.postMessage({\"jupyterEvent\": \"custom.exercise_interaction\", \"data\": {\"outcomeType\": 1, \"valueTowardsCompletion\": 0.3333333333333333, \"interactionType\": 1, \"questionType\": 1, \"questionId\": \"0.3_ZC\", \"learnToolsVersion\": \"0.3.4\", \"failureMessage\": \"\", \"exceptionClass\": \"\", \"trace\": \"\"}}, \"*\")"
      ],
      "text/plain": [
       "<IPython.core.display.Javascript object>"
      ]
     },
     "metadata": {},
     "output_type": "display_data"
    },
    {
     "data": {
      "text/markdown": [
       "<span style=\"color:#33cc33\">Correct:</span> \n",
       "\n",
       "Even though we use different syntax to create it, the string `c` is identical to `b`. In particular, note that the backslash is not part of the string, so it doesn't contribute to its length."
      ],
      "text/plain": [
       "Correct: \n",
       "\n",
       "Even though we use different syntax to create it, the string `c` is identical to `b`. In particular, note that the backslash is not part of the string, so it doesn't contribute to its length."
      ]
     },
     "metadata": {},
     "output_type": "display_data"
    }
   ],
   "source": [
    "c = 'it\\'s ok'\n",
    "length = 7\n",
    "q0.c.check()"
   ]
  },
  {
   "cell_type": "markdown",
   "id": "70e66126",
   "metadata": {
    "papermill": {
     "duration": 0.006116,
     "end_time": "2024-04-02T12:33:55.653822",
     "exception": false,
     "start_time": "2024-04-02T12:33:55.647706",
     "status": "completed"
    },
    "tags": []
   },
   "source": [
    "# 0d."
   ]
  },
  {
   "cell_type": "code",
   "execution_count": 5,
   "id": "8b2a2343",
   "metadata": {
    "execution": {
     "iopub.execute_input": "2024-04-02T12:33:55.667996Z",
     "iopub.status.busy": "2024-04-02T12:33:55.667037Z",
     "iopub.status.idle": "2024-04-02T12:33:55.674546Z",
     "shell.execute_reply": "2024-04-02T12:33:55.673862Z"
    },
    "papermill": {
     "duration": 0.016497,
     "end_time": "2024-04-02T12:33:55.676429",
     "exception": false,
     "start_time": "2024-04-02T12:33:55.659932",
     "status": "completed"
    },
    "tags": []
   },
   "outputs": [
    {
     "data": {
      "application/javascript": [
       "parent.postMessage({\"jupyterEvent\": \"custom.exercise_interaction\", \"data\": {\"outcomeType\": 1, \"valueTowardsCompletion\": 0.3333333333333333, \"interactionType\": 1, \"questionType\": 1, \"questionId\": \"0.4_ZD\", \"learnToolsVersion\": \"0.3.4\", \"failureMessage\": \"\", \"exceptionClass\": \"\", \"trace\": \"\"}}, \"*\")"
      ],
      "text/plain": [
       "<IPython.core.display.Javascript object>"
      ]
     },
     "metadata": {},
     "output_type": "display_data"
    },
    {
     "data": {
      "text/markdown": [
       "<span style=\"color:#33cc33\">Correct:</span> \n",
       "\n",
       "The fact that this string was created using triple-quote syntax doesn't make any difference in terms of its content or length. This string is exactly the same as `'hey'`."
      ],
      "text/plain": [
       "Correct: \n",
       "\n",
       "The fact that this string was created using triple-quote syntax doesn't make any difference in terms of its content or length. This string is exactly the same as `'hey'`."
      ]
     },
     "metadata": {},
     "output_type": "display_data"
    }
   ],
   "source": [
    "d = \"\"\"hey\"\"\"\n",
    "length = 3\n",
    "q0.d.check()"
   ]
  },
  {
   "cell_type": "markdown",
   "id": "dc533021",
   "metadata": {
    "papermill": {
     "duration": 0.007119,
     "end_time": "2024-04-02T12:33:55.690050",
     "exception": false,
     "start_time": "2024-04-02T12:33:55.682931",
     "status": "completed"
    },
    "tags": []
   },
   "source": [
    "# 0e."
   ]
  },
  {
   "cell_type": "code",
   "execution_count": 6,
   "id": "f085adeb",
   "metadata": {
    "execution": {
     "iopub.execute_input": "2024-04-02T12:33:55.704635Z",
     "iopub.status.busy": "2024-04-02T12:33:55.704072Z",
     "iopub.status.idle": "2024-04-02T12:33:55.710824Z",
     "shell.execute_reply": "2024-04-02T12:33:55.709839Z"
    },
    "papermill": {
     "duration": 0.016492,
     "end_time": "2024-04-02T12:33:55.712863",
     "exception": false,
     "start_time": "2024-04-02T12:33:55.696371",
     "status": "completed"
    },
    "tags": []
   },
   "outputs": [
    {
     "data": {
      "application/javascript": [
       "parent.postMessage({\"jupyterEvent\": \"custom.exercise_interaction\", \"data\": {\"outcomeType\": 1, \"valueTowardsCompletion\": 0.3333333333333333, \"interactionType\": 1, \"questionType\": 1, \"questionId\": \"0.5_ZE\", \"learnToolsVersion\": \"0.3.4\", \"failureMessage\": \"\", \"exceptionClass\": \"\", \"trace\": \"\"}}, \"*\")"
      ],
      "text/plain": [
       "<IPython.core.display.Javascript object>"
      ]
     },
     "metadata": {},
     "output_type": "display_data"
    },
    {
     "data": {
      "text/markdown": [
       "<span style=\"color:#33cc33\">Correct:</span> \n",
       "\n",
       "The newline character is just a single character! (Even though we represent it to Python using a combination of two characters.)"
      ],
      "text/plain": [
       "Correct: \n",
       "\n",
       "The newline character is just a single character! (Even though we represent it to Python using a combination of two characters.)"
      ]
     },
     "metadata": {},
     "output_type": "display_data"
    }
   ],
   "source": [
    "e = '\\n'\n",
    "length = 1\n",
    "q0.e.check()"
   ]
  },
  {
   "cell_type": "markdown",
   "id": "05d62218",
   "metadata": {
    "papermill": {
     "duration": 0.006516,
     "end_time": "2024-04-02T12:33:55.726023",
     "exception": false,
     "start_time": "2024-04-02T12:33:55.719507",
     "status": "completed"
    },
    "tags": []
   },
   "source": [
    "# 1.\n",
    "\n",
    "There is a saying that \"Data scientists spend 80% of their time cleaning data, and 20% of their time complaining about cleaning data.\" Let's see if you can write a function to help clean US zip code data. Given a string, it should return whether or not that string represents a valid zip code. For our purposes, a valid zip code is any string consisting of exactly 5 digits.\n",
    "\n",
    "HINT: `str` has a method that will be useful here. Use `help(str)` to review a list of string methods."
   ]
  },
  {
   "cell_type": "code",
   "execution_count": 7,
   "id": "80f91bd5",
   "metadata": {
    "execution": {
     "iopub.execute_input": "2024-04-02T12:33:55.741866Z",
     "iopub.status.busy": "2024-04-02T12:33:55.741499Z",
     "iopub.status.idle": "2024-04-02T12:33:55.750145Z",
     "shell.execute_reply": "2024-04-02T12:33:55.749108Z"
    },
    "papermill": {
     "duration": 0.019602,
     "end_time": "2024-04-02T12:33:55.752300",
     "exception": false,
     "start_time": "2024-04-02T12:33:55.732698",
     "status": "completed"
    },
    "tags": []
   },
   "outputs": [
    {
     "data": {
      "application/javascript": [
       "parent.postMessage({\"jupyterEvent\": \"custom.exercise_interaction\", \"data\": {\"outcomeType\": 1, \"valueTowardsCompletion\": 0.3333333333333333, \"interactionType\": 1, \"questionType\": 2, \"questionId\": \"1_ZipValidator\", \"learnToolsVersion\": \"0.3.4\", \"failureMessage\": \"\", \"exceptionClass\": \"\", \"trace\": \"\"}}, \"*\")"
      ],
      "text/plain": [
       "<IPython.core.display.Javascript object>"
      ]
     },
     "metadata": {},
     "output_type": "display_data"
    },
    {
     "data": {
      "text/markdown": [
       "<span style=\"color:#33cc33\">Correct</span>"
      ],
      "text/plain": [
       "Correct"
      ]
     },
     "metadata": {},
     "output_type": "display_data"
    }
   ],
   "source": [
    "def is_valid_zip(zip_code):\n",
    "    return len(zip_code) == 5 and zip_code.isdigit()\n",
    "\n",
    "# Check your answer\n",
    "q1.check()"
   ]
  },
  {
   "cell_type": "code",
   "execution_count": 8,
   "id": "b39c1bcd",
   "metadata": {
    "execution": {
     "iopub.execute_input": "2024-04-02T12:33:55.768549Z",
     "iopub.status.busy": "2024-04-02T12:33:55.767483Z",
     "iopub.status.idle": "2024-04-02T12:33:55.776662Z",
     "shell.execute_reply": "2024-04-02T12:33:55.775681Z"
    },
    "papermill": {
     "duration": 0.019557,
     "end_time": "2024-04-02T12:33:55.778746",
     "exception": false,
     "start_time": "2024-04-02T12:33:55.759189",
     "status": "completed"
    },
    "tags": []
   },
   "outputs": [
    {
     "data": {
      "application/javascript": [
       "parent.postMessage({\"jupyterEvent\": \"custom.exercise_interaction\", \"data\": {\"interactionType\": 3, \"questionType\": 2, \"questionId\": \"1_ZipValidator\", \"learnToolsVersion\": \"0.3.4\", \"valueTowardsCompletion\": 0.0, \"failureMessage\": \"\", \"exceptionClass\": \"\", \"trace\": \"\", \"outcomeType\": 4}}, \"*\")"
      ],
      "text/plain": [
       "<IPython.core.display.Javascript object>"
      ]
     },
     "metadata": {},
     "output_type": "display_data"
    },
    {
     "data": {
      "text/markdown": [
       "<span style=\"color:#33cc99\">Solution:</span> \n",
       "```python\n",
       "def is_valid_zip(zip_code):\n",
       "    return len(zip_code) == 5 and zip_code.isdigit()\n",
       "```"
      ],
      "text/plain": [
       "Solution: \n",
       "```python\n",
       "def is_valid_zip(zip_code):\n",
       "    return len(zip_code) == 5 and zip_code.isdigit()\n",
       "```"
      ]
     },
     "metadata": {},
     "output_type": "display_data"
    }
   ],
   "source": [
    "#q1.hint()\n",
    "q1.solution()"
   ]
  },
  {
   "cell_type": "markdown",
   "id": "b36b62f3",
   "metadata": {
    "papermill": {
     "duration": 0.006804,
     "end_time": "2024-04-02T12:33:55.792725",
     "exception": false,
     "start_time": "2024-04-02T12:33:55.785921",
     "status": "completed"
    },
    "tags": []
   },
   "source": [
    "# 2.\n",
    "\n",
    "A researcher has gathered thousands of news articles. But she wants to focus her attention on articles including a specific word. Complete the function below to help her filter her list of articles.\n",
    "\n",
    "Your function should meet the following criteria:\n",
    "\n",
    "- Do not include documents where the keyword string shows up only as a part of a larger word. For example, if she were looking for the keyword “closed”, you would not include the string “enclosed.” \n",
    "- She does not want you to distinguish upper case from lower case letters. So the phrase “Closed the case.” would be included when the keyword is “closed”\n",
    "- Do not let periods or commas affect what is matched. “It is closed.” would be included when the keyword is “closed”. But you can assume there are no other types of punctuation."
   ]
  },
  {
   "cell_type": "code",
   "execution_count": 9,
   "id": "ae6b5c69",
   "metadata": {
    "execution": {
     "iopub.execute_input": "2024-04-02T12:33:55.808454Z",
     "iopub.status.busy": "2024-04-02T12:33:55.808120Z",
     "iopub.status.idle": "2024-04-02T12:33:55.819680Z",
     "shell.execute_reply": "2024-04-02T12:33:55.818623Z"
    },
    "papermill": {
     "duration": 0.023063,
     "end_time": "2024-04-02T12:33:55.822788",
     "exception": false,
     "start_time": "2024-04-02T12:33:55.799725",
     "status": "completed"
    },
    "tags": []
   },
   "outputs": [
    {
     "name": "stdout",
     "output_type": "stream",
     "text": [
      "[0]\n"
     ]
    },
    {
     "data": {
      "application/javascript": [
       "parent.postMessage({\"jupyterEvent\": \"custom.exercise_interaction\", \"data\": {\"outcomeType\": 1, \"valueTowardsCompletion\": 0.3333333333333333, \"interactionType\": 1, \"questionType\": 2, \"questionId\": \"2_WordSearch\", \"learnToolsVersion\": \"0.3.4\", \"failureMessage\": \"\", \"exceptionClass\": \"\", \"trace\": \"\"}}, \"*\")"
      ],
      "text/plain": [
       "<IPython.core.display.Javascript object>"
      ]
     },
     "metadata": {},
     "output_type": "display_data"
    },
    {
     "data": {
      "text/markdown": [
       "<span style=\"color:#33cc33\">Correct</span>"
      ],
      "text/plain": [
       "Correct"
      ]
     },
     "metadata": {},
     "output_type": "display_data"
    }
   ],
   "source": [
    "def word_search(doc_list, keyword):\n",
    "    \"\"\"\n",
    "    Takes a list of documents (each document is a string) and a keyword. \n",
    "    Returns list of the index values into the original list for all documents \n",
    "    containing the keyword.\n",
    "\n",
    "    Example:\n",
    "    doc_list = [\"The Learn Python Challenge Casino.\", \"They bought a car\", \"Casinoville\"]\n",
    "    >>> word_search(doc_list, 'casino')\n",
    "    >>> [0]\n",
    "    \"\"\"\n",
    "    # Initialize an empty list to store the indices of documents containing the keyword\n",
    "    indices = []\n",
    "    \n",
    "    # Convert the keyword to lowercase for case-insensitive matching\n",
    "    keyword = keyword.lower()\n",
    "    \n",
    "    # Iterate through the documents in doc_list\n",
    "    for i, doc in enumerate(doc_list):\n",
    "        # Convert the document to lowercase for case-insensitive matching\n",
    "        doc_lower = doc.lower()\n",
    "        \n",
    "        # Remove periods and commas from the document\n",
    "        doc_cleaned = doc_lower.replace(\".\", \"\").replace(\",\", \"\")\n",
    "        \n",
    "        # Split the document into words\n",
    "        words = doc_cleaned.split()\n",
    "        \n",
    "        # Check if the keyword is present in any of the words\n",
    "        if keyword in words:\n",
    "            # If the keyword is found, append the index of the document to the indices list\n",
    "            indices.append(i)\n",
    "    \n",
    "    # Return the list of indices\n",
    "    return indices\n",
    "\n",
    "# Test the function\n",
    "doc_list = [\"The Learn Python Challenge Casino.\", \"They bought a car\", \"Casinoville\"]\n",
    "print(word_search(doc_list, 'casino'))  # Output: [0]\n",
    "\n",
    "\n",
    "# Check your answer\n",
    "q2.check()"
   ]
  },
  {
   "cell_type": "code",
   "execution_count": 10,
   "id": "53e1d503",
   "metadata": {
    "execution": {
     "iopub.execute_input": "2024-04-02T12:33:55.839343Z",
     "iopub.status.busy": "2024-04-02T12:33:55.838995Z",
     "iopub.status.idle": "2024-04-02T12:33:55.846924Z",
     "shell.execute_reply": "2024-04-02T12:33:55.845862Z"
    },
    "papermill": {
     "duration": 0.018837,
     "end_time": "2024-04-02T12:33:55.849068",
     "exception": false,
     "start_time": "2024-04-02T12:33:55.830231",
     "status": "completed"
    },
    "tags": []
   },
   "outputs": [
    {
     "data": {
      "application/javascript": [
       "parent.postMessage({\"jupyterEvent\": \"custom.exercise_interaction\", \"data\": {\"interactionType\": 3, \"questionType\": 2, \"questionId\": \"2_WordSearch\", \"learnToolsVersion\": \"0.3.4\", \"valueTowardsCompletion\": 0.0, \"failureMessage\": \"\", \"exceptionClass\": \"\", \"trace\": \"\", \"outcomeType\": 4}}, \"*\")"
      ],
      "text/plain": [
       "<IPython.core.display.Javascript object>"
      ]
     },
     "metadata": {},
     "output_type": "display_data"
    },
    {
     "data": {
      "text/markdown": [
       "<span style=\"color:#33cc99\">Solution:</span> \n",
       "```python\n",
       "def word_search(doc_list, keyword):\n",
       "    # list to hold the indices of matching documents\n",
       "    indices = [] \n",
       "    # Iterate through the indices (i) and elements (doc) of documents\n",
       "    for i, doc in enumerate(doc_list):\n",
       "        # Split the string doc into a list of words (according to whitespace)\n",
       "        tokens = doc.split()\n",
       "        # Make a transformed list where we 'normalize' each word to facilitate matching.\n",
       "        # Periods and commas are removed from the end of each word, and it's set to all lowercase.\n",
       "        normalized = [token.rstrip('.,').lower() for token in tokens]\n",
       "        # Is there a match? If so, update the list of matching indices.\n",
       "        if keyword.lower() in normalized:\n",
       "            indices.append(i)\n",
       "    return indices\n",
       "```"
      ],
      "text/plain": [
       "Solution: \n",
       "```python\n",
       "def word_search(doc_list, keyword):\n",
       "    # list to hold the indices of matching documents\n",
       "    indices = [] \n",
       "    # Iterate through the indices (i) and elements (doc) of documents\n",
       "    for i, doc in enumerate(doc_list):\n",
       "        # Split the string doc into a list of words (according to whitespace)\n",
       "        tokens = doc.split()\n",
       "        # Make a transformed list where we 'normalize' each word to facilitate matching.\n",
       "        # Periods and commas are removed from the end of each word, and it's set to all lowercase.\n",
       "        normalized = [token.rstrip('.,').lower() for token in tokens]\n",
       "        # Is there a match? If so, update the list of matching indices.\n",
       "        if keyword.lower() in normalized:\n",
       "            indices.append(i)\n",
       "    return indices\n",
       "```"
      ]
     },
     "metadata": {},
     "output_type": "display_data"
    }
   ],
   "source": [
    "#q2.hint()\n",
    "q2.solution()"
   ]
  },
  {
   "cell_type": "markdown",
   "id": "e470ad4f",
   "metadata": {
    "papermill": {
     "duration": 0.007351,
     "end_time": "2024-04-02T12:33:55.864425",
     "exception": false,
     "start_time": "2024-04-02T12:33:55.857074",
     "status": "completed"
    },
    "tags": []
   },
   "source": [
    "# 3.\n",
    "\n",
    "Now the researcher wants to supply multiple keywords to search for. Complete the function below to help her.\n",
    "\n",
    "(You're encouraged to use the `word_search` function you just wrote when implementing this function. Reusing code in this way makes your programs more robust and readable - and it saves typing!)"
   ]
  },
  {
   "cell_type": "code",
   "execution_count": 11,
   "id": "414e58a1",
   "metadata": {
    "execution": {
     "iopub.execute_input": "2024-04-02T12:33:55.881224Z",
     "iopub.status.busy": "2024-04-02T12:33:55.880863Z",
     "iopub.status.idle": "2024-04-02T12:33:55.889164Z",
     "shell.execute_reply": "2024-04-02T12:33:55.888215Z"
    },
    "papermill": {
     "duration": 0.019173,
     "end_time": "2024-04-02T12:33:55.891177",
     "exception": false,
     "start_time": "2024-04-02T12:33:55.872004",
     "status": "completed"
    },
    "tags": []
   },
   "outputs": [
    {
     "data": {
      "application/javascript": [
       "parent.postMessage({\"jupyterEvent\": \"custom.exercise_interaction\", \"data\": {\"outcomeType\": 4, \"interactionType\": 1, \"questionType\": 2, \"questionId\": \"3_MultiWordSearch\", \"learnToolsVersion\": \"0.3.4\", \"valueTowardsCompletion\": 0.0, \"failureMessage\": \"\", \"exceptionClass\": \"\", \"trace\": \"\"}}, \"*\")"
      ],
      "text/plain": [
       "<IPython.core.display.Javascript object>"
      ]
     },
     "metadata": {},
     "output_type": "display_data"
    },
    {
     "data": {
      "text/markdown": [
       "<span style=\"color:#ccaa33\">Check:</span> When you've updated the starter code, `check()` will tell you whether your code is correct. "
      ],
      "text/plain": [
       "Check: When you've updated the starter code, `check()` will tell you whether your code is correct. "
      ]
     },
     "metadata": {},
     "output_type": "display_data"
    }
   ],
   "source": [
    "def multi_word_search(doc_list, keywords):\n",
    "    \"\"\"\n",
    "    Takes list of documents (each document is a string) and a list of keywords.  \n",
    "    Returns a dictionary where each key is a keyword, and the value is a list of indices\n",
    "    (from doc_list) of the documents containing that keyword\n",
    "\n",
    "    >>> doc_list = [\"The Learn Python Challenge Casino.\", \"They bought a car and a casino\", \"Casinoville\"]\n",
    "    >>> keywords = ['casino', 'they']\n",
    "    >>> multi_word_search(doc_list, keywords)\n",
    "    {'casino': [0, 1], 'they': [1]}\n",
    "    \"\"\"\n",
    "    pass\n",
    "\n",
    "# Check your answer\n",
    "q3.check()"
   ]
  },
  {
   "cell_type": "code",
   "execution_count": 12,
   "id": "2ae94e50",
   "metadata": {
    "execution": {
     "iopub.execute_input": "2024-04-02T12:33:55.909095Z",
     "iopub.status.busy": "2024-04-02T12:33:55.908376Z",
     "iopub.status.idle": "2024-04-02T12:33:55.912684Z",
     "shell.execute_reply": "2024-04-02T12:33:55.911651Z"
    },
    "papermill": {
     "duration": 0.015394,
     "end_time": "2024-04-02T12:33:55.914615",
     "exception": false,
     "start_time": "2024-04-02T12:33:55.899221",
     "status": "completed"
    },
    "tags": []
   },
   "outputs": [],
   "source": [
    "#q3.solution()"
   ]
  },
  {
   "cell_type": "markdown",
   "id": "1c434060",
   "metadata": {
    "papermill": {
     "duration": 0.007688,
     "end_time": "2024-04-02T12:33:55.930763",
     "exception": false,
     "start_time": "2024-04-02T12:33:55.923075",
     "status": "completed"
    },
    "tags": []
   },
   "source": [
    "# Keep Going\n",
    "\n",
    "You've learned a lot. But even the best programmers rely heavily on \"libraries\" of code from other programmers. You'll learn about that in **[the last lesson](https://www.kaggle.com/colinmorris/working-with-external-libraries)**.\n"
   ]
  },
  {
   "cell_type": "markdown",
   "id": "621db0d3",
   "metadata": {
    "papermill": {
     "duration": 0.007715,
     "end_time": "2024-04-02T12:33:55.946415",
     "exception": false,
     "start_time": "2024-04-02T12:33:55.938700",
     "status": "completed"
    },
    "tags": []
   },
   "source": [
    "---\n",
    "\n",
    "\n",
    "\n",
    "\n",
    "*Have questions or comments? Visit the [course discussion forum](https://www.kaggle.com/learn/python/discussion) to chat with other learners.*"
   ]
  }
 ],
 "metadata": {
  "kaggle": {
   "accelerator": "none",
   "dataSources": [],
   "isGpuEnabled": false,
   "isInternetEnabled": false,
   "language": "python",
   "sourceType": "notebook"
  },
  "kernelspec": {
   "display_name": "Python 3",
   "language": "python",
   "name": "python3"
  },
  "language_info": {
   "codemirror_mode": {
    "name": "ipython",
    "version": 3
   },
   "file_extension": ".py",
   "mimetype": "text/x-python",
   "name": "python",
   "nbconvert_exporter": "python",
   "pygments_lexer": "ipython3",
   "version": "3.10.13"
  },
  "learntools_metadata": {
   "lesson_index": 5,
   "type": "exercise"
  },
  "papermill": {
   "default_parameters": {},
   "duration": 4.474227,
   "end_time": "2024-04-02T12:33:56.375708",
   "environment_variables": {},
   "exception": null,
   "input_path": "__notebook__.ipynb",
   "output_path": "__notebook__.ipynb",
   "parameters": {},
   "start_time": "2024-04-02T12:33:51.901481",
   "version": "2.5.0"
  }
 },
 "nbformat": 4,
 "nbformat_minor": 5
}
